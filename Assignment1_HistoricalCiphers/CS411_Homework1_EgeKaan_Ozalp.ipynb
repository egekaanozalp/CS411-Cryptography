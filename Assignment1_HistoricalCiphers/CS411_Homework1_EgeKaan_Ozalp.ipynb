{
  "nbformat": 4,
  "nbformat_minor": 0,
  "metadata": {
    "colab": {
      "provenance": []
    },
    "kernelspec": {
      "name": "python3",
      "display_name": "Python 3"
    },
    "language_info": {
      "name": "python"
    }
  },
  "cells": [
    {
      "cell_type": "markdown",
      "source": [
        "Helper Code (Please run this cell at first!)"
      ],
      "metadata": {
        "id": "bcJveXuO7hJP"
      }
    },
    {
      "cell_type": "code",
      "source": [
        "import math\n",
        "import random\n",
        "import fractions\n",
        "\n",
        "# This is method to compute Euler's function\n",
        "# The method here is based on \"counting\", which is not good for large numbers in cryptography\n",
        "def phi(n):\n",
        "    amount = 0\n",
        "    for k in range(1, n + 1):\n",
        "        if math.gcd(n, k) == 1:\n",
        "            amount += 1\n",
        "    return amount\n",
        "\n",
        "# The extended Euclidean algorithm (EEA)\n",
        "def egcd(a, b):\n",
        "    x,y, u,v = 0,1, 1,0\n",
        "    while a != 0:\n",
        "        q, r = b//a, b%a\n",
        "        m, n = x-u*q, y-v*q\n",
        "        b,a, x,y, u,v = a,r, u,v, m,n\n",
        "    gcd = b\n",
        "    return gcd, x, y\n",
        "\n",
        "# Modular inverse algorithm that uses EEA\n",
        "def modinv(a, m):\n",
        "    if a < 0:\n",
        "        a = m+a\n",
        "    gcd, x, y = egcd(a, m)\n",
        "    if gcd != 1:\n",
        "        return None  # modular inverse does not exist\n",
        "    else:\n",
        "        return x % m\n",
        "\n",
        "# You can use the the following variables for encoding an decoding of English letters\n",
        "lowercase = {'a':0, 'b':1, 'c':2, 'd':3, 'e':4, 'f':5, 'g':6, 'h':7, 'i':8,\n",
        "         'j':9, 'k':10, 'l':11, 'm':12, 'n':13, 'o':14, 'p':15, 'q':16,\n",
        "         'r':17, 's':18,  't':19, 'u':20, 'v':21, 'w':22, 'x':23, 'y':24,\n",
        "         'z':25}\n",
        "\n",
        "uppercase ={'A':0, 'B':1, 'C':2, 'D':3, 'E':4, 'F':5, 'G':6, 'H':7, 'I':8,\n",
        "         'J':9, 'K':10, 'L':11, 'M':12, 'N':13, 'O':14, 'P':15, 'Q':16,\n",
        "         'R':17, 'S':18,  'T':19, 'U':20, 'V':21, 'W':22, 'X':23, 'Y':24,\n",
        "         'Z':25}\n",
        "\n",
        "inv_lowercase = {0:'a', 1:'b', 2:'c', 3:'d', 4:'e', 5:'f', 6:'g', 7:'h', 8:'i',\n",
        "         9:'j', 10:'k', 11:'l', 12:'m', 13:'n', 14:'o', 15:'p', 16:'q',\n",
        "         17:'r', 18:'s', 19:'t', 20:'u', 21:'v', 22:'w', 23:'x', 24:'y',\n",
        "         25:'z'}\n",
        "\n",
        "inv_uppercase = {0:'A', 1:'B', 2:'C', 3:'D', 4:'E', 5:'F', 6:'G', 7:'H',\n",
        "                 8:'I', 9:'J', 10:'K', 11:'L', 12:'M', 13:'N', 14:'O', 15:'P',\n",
        "                 16:'Q', 17:'R', 18:'S', 19:'T', 20:'U', 21:'V', 22:'W', 23:'X',\n",
        "                 24:'Y', 25:'Z'}\n",
        "\n",
        "letter_count = {'A':0, 'B':0, 'C':0, 'D':0, 'E':0, 'F':0, 'G':0, 'H':0, 'I':0,\n",
        "         'J':0, 'K':0, 'L':0, 'M':0, 'N':0, 'O':0, 'P':0, 'Q':0,\n",
        "         'R':0, 'S':0,  'T':0, 'U':0, 'V':0, 'W':0, 'X':0, 'Y':0, 'Z':0}\n",
        "\n",
        "\n",
        "# Note that encyrption and decryption algorithms are slightly different for\n",
        "# Turkish texts\n",
        "turkish_alphabet ={'A':0, 'B':1, 'C':2, 'Ç':3, 'D':4, 'E':5, 'F':6, 'G':7, 'Ğ':8, 'H':9, 'I':10,\n",
        "         'İ': 11, 'J':12, 'K':13, 'L':14, 'M':15, 'N':16, 'O':17, 'Ö':18, 'P':19,\n",
        "         'R':20, 'S':21,  'Ş':22, 'T':23, 'U':24, 'Ü':25, 'V':26, 'Y':27,\n",
        "         'Z':28}\n",
        "\n",
        "inv_turkish_alphabet = {0:'A', 1:'B', 2:'C', 3:'Ç', 4:'D', 5:'E', 6:'F', 7:'G', 8:'Ğ', 9:'H',\n",
        "              10:'I', 11:'İ', 12:'J', 13:'K', 14:'L', 15:'M', 16:'N', 17:'O', 18:'Ö',\n",
        "              19:'P', 20:'R', 21:'S',  22:'Ş', 23:'T', 24:'U', 25:'Ü', 26:'V',\n",
        "              27:'Y', 28:'Z'}\n",
        "\n",
        "# Affine cipher encryption and decryption routines only for English texts\n",
        "def Affine_Enc(ptext, key):\n",
        "    plen = len(ptext)\n",
        "    ctext = ''\n",
        "    for i in range (0,plen):\n",
        "        letter = ptext[i]\n",
        "        if letter in lowercase:\n",
        "            poz = lowercase[letter]\n",
        "            poz = (key.alpha*poz+key.beta)%26\n",
        "            #print poz\n",
        "            ctext += inv_lowercase[poz]\n",
        "        elif letter in uppercase:\n",
        "            poz = uppercase[letter]\n",
        "            poz = (key.alpha*poz+key.beta)%26\n",
        "            ctext += inv_uppercase[poz]\n",
        "        else:\n",
        "            ctext += ptext[i]\n",
        "    return ctext\n",
        "\n",
        "def Affine_Dec(ptext, key):\n",
        "    plen = len(ptext)\n",
        "    ctext = ''\n",
        "    for i in range (0,plen):\n",
        "        letter = ptext[i]\n",
        "        if letter in lowercase:\n",
        "            poz = lowercase[letter]\n",
        "            poz = (key.gamma*poz+key.theta)%26\n",
        "            #print poz\n",
        "            ctext += inv_lowercase[poz]\n",
        "        elif letter in uppercase:\n",
        "            poz = uppercase[letter]\n",
        "            poz = (key.gamma*poz+key.theta)%26\n",
        "            ctext += inv_uppercase[poz]\n",
        "        else:\n",
        "            ctext += ptext[i]\n",
        "    return ctext\n",
        "\n",
        "# key object for Affine cipher\n",
        "# (alpha, beta) is the encryption key\n",
        "# (gamma, theta) is the decryption key\n",
        "class key(object):\n",
        "    alpha=0\n",
        "    beta=0\n",
        "    gamma=0\n",
        "    theta=0"
      ],
      "metadata": {
        "id": "-Y4MRsxv7ku3"
      },
      "execution_count": 1,
      "outputs": []
    },
    {
      "cell_type": "markdown",
      "source": [
        "Question 1: Shift Cipher"
      ],
      "metadata": {
        "id": "qJHydSU27qhX"
      }
    },
    {
      "cell_type": "code",
      "source": [
        "# Used the Brute-Force Method.\n",
        "\n",
        "array_chars = [\"N\",\"L\",\"P\",\"D\",\"L\",\"C\"]\n",
        "answer_array = []\n",
        "\n",
        "for i in range(26):\n",
        "    candidate = \"\"\n",
        "    for char in array_chars:\n",
        "        if ord(char) + i > ord(\"Z\"):\n",
        "            candidate += (chr(ord(\"A\") + (ord(char) + i - ord(\"Z\") - 1)))\n",
        "        else:\n",
        "            candidate += (chr(ord(char) + i))\n",
        "    answer_array.append(candidate)\n",
        "\n",
        "answer_array[15]"
      ],
      "metadata": {
        "id": "dV8sgDFR7t9k"
      },
      "execution_count": null,
      "outputs": []
    },
    {
      "cell_type": "markdown",
      "source": [
        "Question 2: Affine Cipher"
      ],
      "metadata": {
        "id": "x7ik5FlT71Am"
      }
    },
    {
      "cell_type": "code",
      "source": [
        "# Finding the most frequent word:\n",
        "ctext = \"J gjg mxa czjq ayr arpa. J ulpa cxlmg ayerr ylmgerg rqrwrm hzdp ax gx ja hexmn.\"\n",
        "word_count = {}\n",
        "for char in ctext:\n",
        "    if char == \" \" or char == \".\":\n",
        "        continue\n",
        "    elif char.lower() not in word_count:\n",
        "        word_count[char.lower()] = 1\n",
        "    else:\n",
        "        word_count[char.lower()] += 1\n",
        "word_count = sorted(word_count.items(), key=lambda item: item[1], reverse=True)\n",
        "print(word_count)\n",
        "\n",
        "# Either \"a\" or \"r\" is equal to \"t\" since they are the most frequent letters. Let's find out which\n",
        "# one of them gives the answer:\n",
        "\n",
        "# Case A:\n",
        "a_possibilities = [1, 3, 5, 7, 9, 11, 15, 17, 19, 21, 23, 25]\n",
        "b_possibilities = [26-((19*a)%26) for a in a_possibilities]\n",
        "\n",
        "candidates_a = []\n",
        "\n",
        "for i in range(len(a_possibilities)):\n",
        "    key.alpha = a_possibilities[i]\n",
        "    key.beta = b_possibilities[i]\n",
        "    key.gamma = modinv(key.alpha, 26)\n",
        "    key.theta = 26-(key.gamma*key.beta)%26\n",
        "    candidates_a.append(Affine_Dec(ctext, key))\n",
        "\n",
        "print(candidates_a[5])\n",
        "print(\"alpha =\", a_possibilities[5])\n",
        "print(\"beta =\", b_possibilities[5])\n",
        "print(\"gamma =\", modinv(a_possibilities[5], 26))\n",
        "print(\"theta =\", 26-(modinv(a_possibilities[5], 26)*b_possibilities[5])%26)\n",
        "\n",
        "# No need for Case R."
      ],
      "metadata": {
        "id": "SfufPPkt71x0"
      },
      "execution_count": null,
      "outputs": []
    },
    {
      "cell_type": "markdown",
      "source": [
        "Question 3: Bigram Affine Cipher"
      ],
      "metadata": {
        "id": "gVJyHEbXFuCe"
      }
    },
    {
      "cell_type": "code",
      "source": [
        "print(\"Key Space Size:\", phi(900)*900)"
      ],
      "metadata": {
        "id": "EMCjiTqdFtqX"
      },
      "execution_count": null,
      "outputs": []
    },
    {
      "cell_type": "markdown",
      "source": [
        "Question 7: Vigènere Cipher"
      ],
      "metadata": {
        "id": "1uHedkZig0aO"
      }
    },
    {
      "cell_type": "code",
      "source": [
        "# 1 Finding the possible key length:\n",
        "# 1.1 Clean the cipher-text:\n",
        "ctext = \"FNZ FFZZMLQQZVO GAXXH PZ UPU QXGIHU UY NWJXR AHBDLPOMK YOUPZM, VOZAYCD. J TGQH B XUIJJZM ARS XOAH, BZJ D JP AT GLWUTB LO EVDWF AL GRHUI. OKPGMC L NME IRU NKGLFHK DQ UTK JUEQX JI UTK PQJHKMVF, KKO L MABZ WIQ YOLDWE GLUFRZ OFMBZV BE ZCHZ AVZQ JZ YKUJZM. D OPHK OKF NRPH TWE, D OPHK NRNQ VZRQXK, RKPY UIH MABZV ZAA FQPI YJPFFOHHT IOOKPGZ FQPIOIJ XTE. D OPHK NRNQ MMHBF JZHEE JJQF NE HHO, FNJXHT O’QH MATB FFMYZG QQXCDQE ZJ KBHK ADJFN DQ UTKH, BFF LMRN ARY KBNOO ROQ’Y CHBDZ KUJLKN WIQS. CHSQ ZCHZ TGQH CDUPJIF ZCH TAAK IPD EJX, FMZ DW, JF CDOM PU TRV SUJG. JF’Y ALSEZ-MDUQ YJXQ, FNZB LZUR KPI ZJ PBWK DW IQXZ. L XMTO WP FXVYFX OI HVDUKH, BXEJVIM, O NKBXR NHU ALA ISAS CHSQ. GIG ZQZ D NOAC OKBF O VP PZRT JPUTB WP M MMDWQEVUE, NAO LU’E G HRTF VMHDUUPV HDGQHZMXY, WIMZ’N ZIMZ DW JE. VMHDUUPV BDK OKF PKVG UTGO OJQ ZCHSQ, KQHSK YOROQ UQHS FNZP TBKVNT AL NXDT HPUOUTB OJRK DQ UTK KDTF, UA VVON KDTEOJQBFK ADJFN DQ UTKDU XAXF, WIQOM WSGZC, WIQOM VUDABJMQ GIG UTKDU TOOZQDQ, ZCDU U QIRX U YCDMX LVOM AT OKF SXJXOP GIG LUYN WIAYZ VUATZV BZJ RHFB UQHS FNZP; UTUPJI U’S XROHOIFFP OI PZ TKVUU FNVW JF’Y GROS HZHO ZUOKJZM WXU M MMDWQEVUE. MTY L TTGGO OAZ RHFB LMRN PKNSBUX, WXU EOHSMK HZFBGYZ L TTGGO CQ NVSQK OI PZ FKVUT, U YCDMX YOHFB ST VPGR DQ FYUOLPZ. O GRWQ ZCH TFOXNZ XKVYFE OI VQDOIJ, UTK WOVQ YFB - UTGO’V BXR DW JE. OO’V OAZ V PBFZZU PR OIWFXRZFU AX GRHUI, DW’T XUQLOS CDWI ATZ’V JZYDGF, IOOK PZK’N VUASVFI.\"\n",
        "ctext_clean = [char for char in ctext.upper() if ord(char)<=ord(\"Z\") and ord(char)>=ord(\"A\")]\n",
        "\n",
        "# 1.2 Check for the coincidences:\n",
        "match_amounts = []\n",
        "for i in range(len(ctext_clean)):\n",
        "  match_amount = 0\n",
        "  a = i\n",
        "  for j in range(len(ctext_clean[0:len(ctext_clean)-i])):\n",
        "    if ctext_clean[a] == ctext_clean[j]:\n",
        "      match_amount+=1\n",
        "    a+=1\n",
        "  match_amounts.append(match_amount)\n",
        "print(\"a. The first 20 match amounts are:\", match_amounts[1:21])\n",
        "print(\"b. The numbers that are significantly bigger than the others:\", match_amounts[5:21:5])\n",
        "print(\"c. The distances between such big numbers are 5. Hence, the probability of 5 being the key length is very high.\")"
      ],
      "metadata": {
        "id": "STUvo3-shCzO"
      },
      "execution_count": null,
      "outputs": []
    },
    {
      "cell_type": "code",
      "source": [
        "# K = (k_1, k_2, k_3, k_4, k_5)\n",
        "# Finding the k_1 value:\n",
        "i = 0\n",
        "sub_cipher_1 = {}\n",
        "while(i < len(ctext_clean)):\n",
        "  if ctext_clean[i] not in list(sub_cipher_1.keys()):\n",
        "    sub_cipher_1[ctext_clean[i]] = 1\n",
        "  else:\n",
        "    sub_cipher_1[ctext_clean[i]] += 1\n",
        "  i += 5\n",
        "sub_cipher_1 = dict(sorted(sub_cipher_1.items(), key=lambda item: item[1], reverse=True))\n",
        "print(\"First subcipher frequencies:\", sub_cipher_1)\n",
        "\n",
        "# Scenario 1:\n",
        "candidate_key_1 = uppercase[\"Q\"] - uppercase[\"E\"]\n",
        "print(\"Candidate sub-key \" + str(candidate_key_1) + \": \" + \"Q-E, F-T, A-O, ...\" + \"(the order of the matchings are based on ciphertext letter-plaintext letter!)\")\n",
        "print(\"Based on the frequency test, these matchings are logical!\")\n",
        "print(\"k_1 = 12. So the first letter of the key is M!\")"
      ],
      "metadata": {
        "id": "ijF0C91WpA5C"
      },
      "execution_count": null,
      "outputs": []
    },
    {
      "cell_type": "code",
      "source": [
        "# K = (k_1, k_2, k_3, k_4, k_5)\n",
        "# Finding the k_2 value:\n",
        "i = 1\n",
        "sub_cipher_2 = {}\n",
        "while(i < len(ctext_clean)):\n",
        "  if ctext_clean[i] not in list(sub_cipher_2.keys()):\n",
        "    sub_cipher_2[ctext_clean[i]] = 1\n",
        "  else:\n",
        "    sub_cipher_2[ctext_clean[i]] += 1\n",
        "  i += 5\n",
        "sub_cipher_2 = dict(sorted(sub_cipher_2.items(), key=lambda item: item[1], reverse=True))\n",
        "print(\"Second subcipher frequencies:\", sub_cipher_2)\n",
        "\n",
        "# Scenario 1:\n",
        "candidate_key_2 = uppercase[\"K\"] - uppercase[\"E\"]\n",
        "print(\"Candidate sub-key \" + str(candidate_key_2) + \": \" + \"K-E, O-I, Z-T, ...\" + \"(the order of the matchings are based on ciphertext letter-plaintext letter!)\")\n",
        "print(\"Based on the frequency test, these matchings are logical!\")\n",
        "print(\"k_2 = 6. So the second letter of the key is G!\")"
      ],
      "metadata": {
        "id": "K1ZgarO__0oj"
      },
      "execution_count": null,
      "outputs": []
    },
    {
      "cell_type": "code",
      "source": [
        "# K = (k_1, k_2, k_3, k_4, k_5)\n",
        "# Finding the k_3 value:\n",
        "i = 2\n",
        "sub_cipher_3 = {}\n",
        "while(i < len(ctext_clean)):\n",
        "  if ctext_clean[i] not in list(sub_cipher_3.keys()):\n",
        "    sub_cipher_3[ctext_clean[i]] = 1\n",
        "  else:\n",
        "    sub_cipher_3[ctext_clean[i]] += 1\n",
        "  i += 5\n",
        "sub_cipher_3 = dict(sorted(sub_cipher_3.items(), key=lambda item: item[1], reverse=True))\n",
        "print(\"Third subcipher frequencies:\", sub_cipher_3)\n",
        "\n",
        "# Scenario 1:\n",
        "candidate_key_3 = uppercase[\"Z\"] - uppercase[\"E\"]\n",
        "print(\"Candidate sub-key \" + str(candidate_key_3) + \": \" + \"Z-E, D-I, O-T, ...\" + \"(the order of the matchings are based on ciphertext letter-plaintext letter!)\")\n",
        "print(\"Based on the frequency test, these matchings are logical!\")\n",
        "print(\"k_3 = 21. So the third letter of the key is V!\")"
      ],
      "metadata": {
        "id": "PFiqxFosBtFU"
      },
      "execution_count": null,
      "outputs": []
    },
    {
      "cell_type": "code",
      "source": [
        "# K = (k_1, k_2, k_3, k_4, k_5)\n",
        "# Finding the k_4 value:\n",
        "i = 3\n",
        "sub_cipher_4 = {}\n",
        "while(i < len(ctext_clean)):\n",
        "  if ctext_clean[i] not in list(sub_cipher_4.keys()):\n",
        "    sub_cipher_4[ctext_clean[i]] = 1\n",
        "  else:\n",
        "    sub_cipher_4[ctext_clean[i]] += 1\n",
        "  i += 5\n",
        "sub_cipher_4 = dict(sorted(sub_cipher_4.items(), key=lambda item: item[1], reverse=True))\n",
        "print(\"Fourth subcipher frequencies:\", sub_cipher_4)\n",
        "\n",
        "# Scenario 1:\n",
        "candidate_key_4 = uppercase[\"H\"] - uppercase[\"E\"]\n",
        "print(\"Candidate sub-key \" + str(candidate_key_4) + \": \" + \"H-E, W-T, R-O, ...\" + \"(the order of the matchings are based on ciphertext letter-plaintext letter!)\")\n",
        "print(\"Based on the frequency test, these matchings are logical!\")\n",
        "print(\"k_4 = 3. So the fourth letter of the key is D!\")"
      ],
      "metadata": {
        "id": "_nnp3NOCC4GC"
      },
      "execution_count": null,
      "outputs": []
    },
    {
      "cell_type": "code",
      "source": [
        "# K = (k_1, k_2, k_3, k_4, k_5)\n",
        "# Finding the k_5 value:\n",
        "i = 4\n",
        "sub_cipher_5 = {}\n",
        "while(i < len(ctext_clean)):\n",
        "  if ctext_clean[i] not in list(sub_cipher_5.keys()):\n",
        "    sub_cipher_5[ctext_clean[i]] = 1\n",
        "  else:\n",
        "    sub_cipher_5[ctext_clean[i]] += 1\n",
        "  i += 5\n",
        "sub_cipher_5 = dict(sorted(sub_cipher_5.items(), key=lambda item: item[1], reverse=True))\n",
        "print(\"Fifth subcipher frequencies:\", sub_cipher_5)\n",
        "\n",
        "# Scenario 1:\n",
        "candidate_key_5 = uppercase[\"U\"] - uppercase[\"E\"]\n",
        "print(\"Candidate sub-key \" + str(candidate_key_5) + \": \" + \"U-E, F-P, P-Z, ...\" + \"(the order of the matchings are based on ciphertext letter-plaintext letter!)\")\n",
        "print(\"Based on the frequency test, these matchings are not logical!\")\n",
        "print(\"Scenario 2:\")\n",
        "candidate_key_5 = uppercase[\"U\"] - uppercase[\"T\"]\n",
        "print(\"Candidate sub-key \" + str(candidate_key_5) + \": \" + \"U-T, F-E, P-O, ...\" + \"(the order of the matchings are based on ciphertext letter-plaintext letter!)\")\n",
        "print(\"Based on the frequency test, these matchings are logical!\")\n",
        "print(\"k_5 = 1. So the fifth letter of the key is B!\")"
      ],
      "metadata": {
        "id": "SyAz1vxzD2N-"
      },
      "execution_count": null,
      "outputs": []
    },
    {
      "cell_type": "code",
      "source": [
        "# Decryption of the ciphertext:\n",
        "# key = \"MGVDB\"\n",
        "i = 0\n",
        "while i < len(ctext_clean):\n",
        "  ctext_clean[i] = inv_uppercase[(uppercase[ctext_clean[i]] - uppercase[\"M\"])%26]\n",
        "  i += 5\n",
        "i = 1\n",
        "while i < len(ctext_clean):\n",
        "  ctext_clean[i] = inv_uppercase[(uppercase[ctext_clean[i]] - uppercase[\"G\"])%26]\n",
        "  i += 5\n",
        "i = 2\n",
        "while i < len(ctext_clean):\n",
        "  ctext_clean[i] = inv_uppercase[(uppercase[ctext_clean[i]] - uppercase[\"V\"])%26]\n",
        "  i += 5\n",
        "i = 3\n",
        "while i < len(ctext_clean):\n",
        "  ctext_clean[i] = inv_uppercase[(uppercase[ctext_clean[i]] - uppercase[\"D\"])%26]\n",
        "  i += 5\n",
        "i = 4\n",
        "while i < len(ctext_clean):\n",
        "  ctext_clean[i] = inv_uppercase[(uppercase[ctext_clean[i]] - uppercase[\"B\"])%26]\n",
        "  i += 5\n",
        "\n",
        "ciphertext_clean = \"\"\n",
        "for char in ctext_clean:\n",
        "  ciphertext_clean += char\n",
        "\n",
        "ciphertext_clean"
      ],
      "metadata": {
        "id": "JtZt5W19Ft38"
      },
      "execution_count": null,
      "outputs": []
    }
  ]
}